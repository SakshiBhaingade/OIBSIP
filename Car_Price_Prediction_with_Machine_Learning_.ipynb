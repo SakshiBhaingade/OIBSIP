{
  "nbformat": 4,
  "nbformat_minor": 0,
  "metadata": {
    "colab": {
      "provenance": [],
      "authorship_tag": "ABX9TyOO5kLWjHyHKJD2rJ9AGzrG",
      "include_colab_link": true
    },
    "kernelspec": {
      "name": "python3",
      "display_name": "Python 3"
    },
    "language_info": {
      "name": "python"
    }
  },
  "cells": [
    {
      "cell_type": "markdown",
      "metadata": {
        "id": "view-in-github",
        "colab_type": "text"
      },
      "source": [
        "<a href=\"https://colab.research.google.com/github/SakshiBhaingade/OIBSIP/blob/main/Car_Price_Prediction_with_Machine_Learning_.ipynb\" target=\"_parent\"><img src=\"https://colab.research.google.com/assets/colab-badge.svg\" alt=\"Open In Colab\"/></a>"
      ]
    },
    {
      "cell_type": "code",
      "execution_count": null,
      "metadata": {
        "id": "YjDxQf8g4sk7"
      },
      "outputs": [],
      "source": [
        "#Import Libraries\n",
        "import pandas as pd\n",
        "import numpy as np\n",
        "import matplotlib.pyplot as plt\n",
        "import seaborn as sns\n",
        "from sklearn.model_selection import train_test_split\n",
        "from sklearn.linear_model import LinearRegression\n",
        "from sklearn.metrics import r2_score, mean_squared_error"
      ]
    },
    {
      "cell_type": "code",
      "source": [
        "#Load and Explore Data\n",
        "df = pd.read_csv('car data.csv')\n",
        "print(df.head())\n",
        "print(df.info())"
      ],
      "metadata": {
        "colab": {
          "base_uri": "https://localhost:8080/"
        },
        "id": "gQTewyOT5rsu",
        "outputId": "c05a14c9-7032-4b8d-8792-f1d19e5bbc1a"
      },
      "execution_count": null,
      "outputs": [
        {
          "output_type": "stream",
          "name": "stdout",
          "text": [
            "  Car_Name  Year  Selling_Price  Present_Price  Driven_kms Fuel_Type  \\\n",
            "0     ritz  2014           3.35           5.59       27000    Petrol   \n",
            "1      sx4  2013           4.75           9.54       43000    Diesel   \n",
            "2     ciaz  2017           7.25           9.85        6900    Petrol   \n",
            "3  wagon r  2011           2.85           4.15        5200    Petrol   \n",
            "4    swift  2014           4.60           6.87       42450    Diesel   \n",
            "\n",
            "  Selling_type Transmission  Owner  \n",
            "0       Dealer       Manual      0  \n",
            "1       Dealer       Manual      0  \n",
            "2       Dealer       Manual      0  \n",
            "3       Dealer       Manual      0  \n",
            "4       Dealer       Manual      0  \n",
            "<class 'pandas.core.frame.DataFrame'>\n",
            "RangeIndex: 301 entries, 0 to 300\n",
            "Data columns (total 9 columns):\n",
            " #   Column         Non-Null Count  Dtype  \n",
            "---  ------         --------------  -----  \n",
            " 0   Car_Name       301 non-null    object \n",
            " 1   Year           301 non-null    int64  \n",
            " 2   Selling_Price  301 non-null    float64\n",
            " 3   Present_Price  301 non-null    float64\n",
            " 4   Driven_kms     301 non-null    int64  \n",
            " 5   Fuel_Type      301 non-null    object \n",
            " 6   Selling_type   301 non-null    object \n",
            " 7   Transmission   301 non-null    object \n",
            " 8   Owner          301 non-null    int64  \n",
            "dtypes: float64(2), int64(3), object(4)\n",
            "memory usage: 21.3+ KB\n",
            "None\n"
          ]
        }
      ]
    },
    {
      "cell_type": "code",
      "source": [
        "#Data Preprocessing\n",
        "# Drop car name (not needed for prediction)\n",
        "df = df.drop(['Car_Name'], axis=1)\n",
        "\n",
        "# Convert categorical to numerical\n",
        "df = pd.get_dummies(df, drop_first=True)\n",
        "\n",
        "# Feature and target\n",
        "X = df.drop('Selling_Price', axis=1)\n",
        "y = df['Selling_Price']\n",
        "\n",
        "# Split into train and test\n",
        "X_train, X_test, y_train, y_test = train_test_split(X, y, test_size=0.2, random_state=42)"
      ],
      "metadata": {
        "id": "TlW_jkmM5vng"
      },
      "execution_count": null,
      "outputs": []
    },
    {
      "cell_type": "code",
      "source": [
        "#Train the Model\n",
        "model = LinearRegression()\n",
        "model.fit(X_train, y_train)\n",
        "\n",
        "# Predict\n",
        "y_pred = model.predict(X_test)"
      ],
      "metadata": {
        "id": "793eYWJ86Xcd"
      },
      "execution_count": null,
      "outputs": []
    },
    {
      "cell_type": "code",
      "source": [
        "#Evaluate the Model\n",
        "r2 = r2_score(y_test, y_pred)\n",
        "mse = mean_squared_error(y_test, y_pred)\n",
        "\n",
        "print(\"🔍 R2 Score:\", r2)\n",
        "print(\"📉 Mean Squared Error:\", mse)"
      ],
      "metadata": {
        "colab": {
          "base_uri": "https://localhost:8080/"
        },
        "id": "-_dROOEE6dXm",
        "outputId": "729de4fd-1c63-4805-8e6a-48fa919067dc"
      },
      "execution_count": null,
      "outputs": [
        {
          "output_type": "stream",
          "name": "stdout",
          "text": [
            "🔍 R2 Score: 0.8488707839191938\n",
            "📉 Mean Squared Error: 3.4813498305146187\n"
          ]
        }
      ]
    },
    {
      "cell_type": "code",
      "source": [
        "#Visualize Actual vs Predicted\n",
        "plt.scatter(y_test, y_pred, color='green')\n",
        "plt.xlabel('Actual Price')\n",
        "plt.ylabel('Predicted Price')\n",
        "plt.title('Actual vs Predicted Car Price')\n",
        "plt.grid(True)\n",
        "plt.show()"
      ],
      "metadata": {
        "colab": {
          "base_uri": "https://localhost:8080/",
          "height": 472
        },
        "id": "gqTs71Ki6kMv",
        "outputId": "09f35ed4-a66e-4daa-ca3e-1113388f5585"
      },
      "execution_count": null,
      "outputs": [
        {
          "output_type": "display_data",
          "data": {
            "text/plain": [
              "<Figure size 640x480 with 1 Axes>"
            ],
            "image/png": "[encoded data removed]"
          },
          "metadata": {}
        }
      ]
    }
  ]
}